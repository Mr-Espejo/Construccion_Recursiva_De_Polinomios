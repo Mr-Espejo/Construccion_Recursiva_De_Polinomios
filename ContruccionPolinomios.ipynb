{
  "nbformat": 4,
  "nbformat_minor": 0,
  "metadata": {
    "colab": {
      "name": "ContruccionPolinomios.ipynb",
      "provenance": [],
      "authorship_tag": "ABX9TyPNAFbNXUdDvU13OylmzABJ",
      "include_colab_link": true
    },
    "kernelspec": {
      "name": "python3",
      "display_name": "Python 3"
    },
    "language_info": {
      "name": "python"
    }
  },
  "cells": [
    {
      "cell_type": "markdown",
      "metadata": {
        "id": "view-in-github",
        "colab_type": "text"
      },
      "source": [
        "<a href=\"https://colab.research.google.com/github/Mr-Espejo/Construccion_Recursiva_De_Polinomios/blob/main/ContruccionPolinomios.ipynb\" target=\"_parent\"><img src=\"https://colab.research.google.com/assets/colab-badge.svg\" alt=\"Open In Colab\"/></a>"
      ]
    },
    {
      "cell_type": "code",
      "metadata": {
        "id": "OHDit-dCzgK3"
      },
      "source": [
        ""
      ],
      "execution_count": null,
      "outputs": []
    },
    {
      "cell_type": "markdown",
      "metadata": {
        "id": "eiR3sath7E3_"
      },
      "source": [
        "1. Crear un repositorio de código en github denominado construcción recursiva de polinomios.\n",
        "\n",
        "Ponga en el readme.md del repositorio la descripción del problema que se va a resolver.\n",
        "\n",
        "Problema: Sea p_1(x) = x-2, p_2(x) = x**2+x y p_n(x) = p_{n-1}(x/2) - x*p_{n-2}(x/4).\n",
        "Generar los primeros 50 polinomios de esta construcción.\n",
        "Hacer una gráfica de los primeros 5 polinomios en el intervalo [0,100]\n",
        "Calcule las derivadas de los primeros 5 polinomios.\n",
        "Debe haber un commit por cada uno de los puntos 4, 5 y 6 en el repositorio.\n",
        "Enviar el enlace al repositorio."
      ]
    }
  ]
}