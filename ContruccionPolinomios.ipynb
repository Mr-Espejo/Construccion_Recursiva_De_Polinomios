{
  "nbformat": 4,
  "nbformat_minor": 0,
  "metadata": {
    "colab": {
      "name": "ContruccionPolinomios.ipynb",
      "provenance": [],
      "authorship_tag": "ABX9TyOigGfWSKGLHNjEN6mc7DKj",
      "include_colab_link": true
    },
    "kernelspec": {
      "name": "python3",
      "display_name": "Python 3"
    },
    "language_info": {
      "name": "python"
    }
  },
  "cells": [
    {
      "cell_type": "markdown",
      "metadata": {
        "id": "view-in-github",
        "colab_type": "text"
      },
      "source": [
        "<a href=\"https://colab.research.google.com/github/Mr-Espejo/Construccion_Recursiva_De_Polinomios/blob/main/ContruccionPolinomios.ipynb\" target=\"_parent\"><img src=\"https://colab.research.google.com/assets/colab-badge.svg\" alt=\"Open In Colab\"/></a>"
      ]
    },
    {
      "cell_type": "markdown",
      "metadata": {
        "id": "eiR3sath7E3_"
      },
      "source": [
        "Parcial 2 Computación cientifica\n",
        "\n",
        "1. Crear un repositorio de código en github denominado construcción recursiva de polinomios.\n",
        "\n",
        "2. Ponga en el readme.md del repositorio la descripción del problema que se va a resolver.\n",
        "\n",
        "3. Problema: Sea p_1(x) = x-2, p_2(x) = x**2+x y p_n(x) = p_{n-1}(x/2) - x*p_{n-2}(x/4).\n",
        "4. Generar los primeros 50 polinomios de esta construcción.\n",
        "5. Hacer una gráfica de los primeros 5 polinomios en el intervalo [0,100]\n",
        "6. Calcule las derivadas de los primeros 5 polinomios.\n",
        "7. Debe haber un commit por cada uno de los puntos 4, 5 y 6 en el repositorio.\n",
        "8. Enviar el enlace al repositorio."
      ]
    },
    {
      "cell_type": "code",
      "metadata": {
        "id": "IQULx3Zd9i5w"
      },
      "source": [
        ""
      ],
      "execution_count": null,
      "outputs": []
    }
  ]
}